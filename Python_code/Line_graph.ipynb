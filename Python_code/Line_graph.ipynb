{
 "cells": [
  {
   "cell_type": "markdown",
   "id": "7835cbc9",
   "metadata": {},
   "source": [
    "# Import packages"
   ]
  },
  {
   "cell_type": "code",
   "execution_count": null,
   "id": "177942ff",
   "metadata": {},
   "outputs": [],
   "source": [
    "# Allows us to read-in csv files, and used for data manipulation\n",
    "import pandas as pd\n",
    "\n",
    "# Used to create regular expressions to match strings\n",
    "import re\n",
    "\n",
    "# Modules used to create interactive visualisations \n",
    "import plotly.express as px\n",
    "import plotly.graph_objects as go"
   ]
  },
  {
   "cell_type": "markdown",
   "id": "fdb2e3f8",
   "metadata": {},
   "source": [
    "# Dataset 4\n",
    "\n",
    "This dataset includes sexual identity estimates by gender from 2010 to 2014. This is presented at a UK level, and broken down by England, Wales, Scotland and Northern Ireland. I wanted this guide to include a demo of how to make interactive line graphs with gender identity data, but unfortunately given this is only the first year that the ONS has collected this data that was not possible. So I found a dataset from 2015 which involves experimental statistics that have been used in the Integrated Household Survey. For more info, you can check out this [ONS link](https://www.ons.gov.uk/peoplepopulationandcommunity/culturalidentity/sexuality/datasets/sexualidentitybyagegroupbycountry). "
   ]
  },
  {
   "cell_type": "code",
   "execution_count": null,
   "id": "0741066d",
   "metadata": {},
   "outputs": [],
   "source": [
    "df4 = pd.read_csv('../Data/cleaned_sexuality_df.csv')"
   ]
  },
  {
   "cell_type": "code",
   "execution_count": null,
   "id": "ad837265",
   "metadata": {},
   "outputs": [],
   "source": [
    "# Brief glimpse at underlying data structure\n",
    "\n",
    "df4.head(50)"
   ]
  },
  {
   "cell_type": "markdown",
   "id": "d0a19aef",
   "metadata": {},
   "source": [
    "## Data cleaning\n",
    "\n",
    "When I first found this dataset it was very messy and formatted terribly, so I performed some cleaning on it in a separate jupyter notebook, to save cluttering this one and distracting from the main tutorial. If you'd like to see how I cleaned it up, please see the ['Data_cleaning_sexuality.ipynb'](Data_cleaning_sexuality.ipynb) notebook."
   ]
  },
  {
   "cell_type": "markdown",
   "id": "85a5341a",
   "metadata": {},
   "source": [
    "## Data pre-processing\n",
    "\n",
    "The only pre-processing we're going to do is subset our data so that we have it ready to analyse in the following step."
   ]
  },
  {
   "cell_type": "code",
   "execution_count": null,
   "id": "e5d4e369",
   "metadata": {},
   "outputs": [],
   "source": [
    "# Filtering the dataset for England only\n",
    "\n",
    "england_df = df4[df4['Country'] == 'England']"
   ]
  },
  {
   "cell_type": "markdown",
   "id": "6ffda0fe",
   "metadata": {},
   "source": [
    "## Interactive linegraph\n",
    "\n",
    "By now you probably know the drill. Just like we had our px.bar and px.scatter methods, we have a corresponding one for linegraphs, appropriately named px.line. The parameters used are the same, with the only difference being that we're using:\n",
    "\n",
    "* facet_row - when we specify a categorical variable here (Gender), this instructs Plotly to create a separate subplot (a row) for each unique value. \n",
    "\n",
    "* facet_column - when we specify a categorical variable here (Country), this instructs Plotly to create a separate subplot (a column) for each unique value.\n",
    "\n",
    "Thus, we get our 2x1 grid of linegraphs. If we added on another country e.g. Scotland, and used these same parameters we'd get a 2x3 grid, and so on. "
   ]
  },
  {
   "cell_type": "markdown",
   "id": "3a66cbaa",
   "metadata": {},
   "source": [
    "## Interactive legends\n",
    "\n",
    "Again, the cool thing about Plotly's legends is that they are interactive by default. Thus, this allows us to omit values which dominate the graph and obscure our ability to get to the nitty gritty of the data.\n"
   ]
  },
  {
   "cell_type": "code",
   "execution_count": null,
   "id": "6c0a5aea",
   "metadata": {},
   "outputs": [],
   "source": [
    "# Specify hover_data\n",
    "\n",
    "hover_data = {'Sexuality': True,\n",
    "              'Percentage': ':.2f%',\n",
    "             'Country': False,\n",
    "             'Year': False,\n",
    "             'Gender': True}"
   ]
  },
  {
   "cell_type": "code",
   "execution_count": null,
   "id": "a4bceeb7",
   "metadata": {},
   "outputs": [],
   "source": [
    "\n",
    "fig6 = px.line(england_df,\n",
    "              x='Year',\n",
    "              y='Percentage',\n",
    "              color='Sexuality',\n",
    "              facet_row='Gender',\n",
    "              facet_col='Country',\n",
    "              hover_data = hover_data,\n",
    "              title='Sexuality Percentages by Gender in England (2010-2014)',\n",
    "              markers=True,\n",
    "              height = 800,\n",
    "              width = 1000)\n",
    "\n",
    "# Enhance the layout for readability\n",
    "fig6.update_layout(title_x = 0.15,\n",
    "    legend_title_text='Sexuality')\n",
    "\n",
    "fig6.show()"
   ]
  },
  {
   "cell_type": "code",
   "execution_count": null,
   "id": "0a510c8f",
   "metadata": {},
   "outputs": [],
   "source": [
    "# Finally, let's update our x-axis so that it only shows whole years\n",
    "\n",
    "# dtick \"M12\" - tells plotly to place a tick every 12 months \n",
    "fig6.update_xaxes(dtick=\"M12\", tickformat=\"%Y\")"
   ]
  },
  {
   "cell_type": "code",
   "execution_count": null,
   "id": "f3ee60a7",
   "metadata": {},
   "outputs": [],
   "source": []
  }
 ],
 "metadata": {
  "kernelspec": {
   "display_name": "Python 3 (ipykernel)",
   "language": "python",
   "name": "python3"
  },
  "language_info": {
   "codemirror_mode": {
    "name": "ipython",
    "version": 3
   },
   "file_extension": ".py",
   "mimetype": "text/x-python",
   "name": "python",
   "nbconvert_exporter": "python",
   "pygments_lexer": "ipython3",
   "version": "3.10.13"
  },
  "toc": {
   "base_numbering": 1,
   "nav_menu": {},
   "number_sections": true,
   "sideBar": true,
   "skip_h1_title": false,
   "title_cell": "Table of Contents",
   "title_sidebar": "Contents",
   "toc_cell": false,
   "toc_position": {},
   "toc_section_display": true,
   "toc_window_display": true
  },
  "varInspector": {
   "cols": {
    "lenName": 16,
    "lenType": 16,
    "lenVar": 40
   },
   "kernels_config": {
    "python": {
     "delete_cmd_postfix": "",
     "delete_cmd_prefix": "del ",
     "library": "var_list.py",
     "varRefreshCmd": "print(var_dic_list())"
    },
    "r": {
     "delete_cmd_postfix": ") ",
     "delete_cmd_prefix": "rm(",
     "library": "var_list.r",
     "varRefreshCmd": "cat(var_dic_list()) "
    }
   },
   "types_to_exclude": [
    "module",
    "function",
    "builtin_function_or_method",
    "instance",
    "_Feature"
   ],
   "window_display": false
  }
 },
 "nbformat": 4,
 "nbformat_minor": 5
}
