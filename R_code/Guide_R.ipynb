{
    "cells": [
        {
            "cell_type": "markdown",
            "metadata": {},
            "source": [
                "![UKDS logo](/Users/loucap/Documents/GitWork/Interactive_vis_new/Images/ukds.png)\n",
                "\n",
                "# Guide to Interactive Visualisations\n",
                "\n",
                "In this guide, you'll be shown how to make 3 key types of interactive visualisations, which include:\n",
                "\n",
                "* Basic bar chart + group and stacked \n",
                "* Scatterplot + dropdown menu\n",
                "* Line graph\n",
                "\n",
                "To create these visualisations, we'll be using the **'plotly'** package. \n",
                "\n",
                "# Census Data\n",
                "\n",
                "Datasets used in this workshop are from the 2021 census, and involve the new voluntary question which focuses on gender identity. In particular, we explore the relationship between age and gender identity, as well as ethnicity and gender identity.\n",
                "\n",
                "**However, please note:**\n",
                "\n",
                "The Office for Statistics Regulation confirmed on 12/09/2024 that the gender identity estimates from Census 2021 in England and Wales are no longer 'accredited official statistics' and are **now classified as 'official statistics in development'**. For further information, please see: [Sexual orientation and gender identity quality information for Census 2021.](https://www.ons.gov.uk/peoplepopulationandcommunity/culturalidentity/sexuality/methodologies/sexualorientationandgenderidentityqualityinformationforcensus2021) \n",
                "\n",
                "# Let's begin...\n",
                "\n",
                "Let's get started by importing the necessary packages.\n",
                "\n",
                "**NOTE:** If you're not following along with Binder, and you have your own computational environment, make sure you install the necessary packages through the command line before proceeding to import. \n",
                "\n",
                "## Install packages\n",
                "\n",
                "Uncomment the lines below to install the packages if you're not working in Binder.\n"
            ]
        },
        {
            "cell_type": "code",
            "execution_count": null,
            "metadata": {},
            "outputs": [],
            "source": [
                "# install.packages(\"readr\")\n",
                "# install.packages(\"dplyr\")\n",
                "# install.packages(\"stringr\")\n",
                "# install.packages(\"shiny\")\n",
                "# install.packages(\"ggplot2\")\n",
                "# install.packages(\"plotly\")\n"
            ]
        },
        {
            "cell_type": "markdown",
            "metadata": {},
            "source": [
                "## Load in packages\n",
                "\n"
            ]
        },
        {
            "cell_type": "code",
            "execution_count": null,
            "metadata": {},
            "outputs": [],
            "source": [
                "# Allows us to read-in csv files\n",
                "library(readr) \n",
                "# For data manipulation\n",
                "library(dplyr) \n",
                "# For regular expression operations \n",
                "library(stringr) \n",
                "# library(shiny)\n",
                "library(ggplot2)\n",
                "# Used tp create interactive visualisations\n",
                "library(plotly)\n"
            ]
        },
        {
            "cell_type": "markdown",
            "metadata": {},
            "source": [
                "# Dataset 1\n",
                "\n",
                "The first dataset that we'll be focusing on is a really simple dataset which shows the total counts for 8 gender identity categories across England and Wales. We'll do a bit of data cleaning, remove unnecessary categories (such as 'Does not apply'), and then calculate the % of each gender identity category. Then, we'll create a simple interactive bar chart which displays the percentage by gender identity category, whilst enabling some interactivity when we hover over each bar.\n"
            ]
        },
        {
            "cell_type": "code",
            "execution_count": null,
            "metadata": {},
            "outputs": [],
            "source": [
                "# Load in dataset\n",
                "\n",
                "df <- read_csv('../Data/GI_det_EW.csv')\n"
            ]
        },
        {
            "cell_type": "markdown",
            "metadata": {},
            "source": [
                "\n",
                "\n"
            ]
        },
        {
            "cell_type": "code",
            "execution_count": null,
            "metadata": {},
            "outputs": [],
            "source": [
                "# Brief glimpse of data structure\n",
                "# But can also click on the dataset in the Environment pane\n",
                "head(df, 10)\n"
            ]
        },
        {
            "cell_type": "markdown",
            "metadata": {},
            "source": "\n"
        },
        {
            "cell_type": "code",
            "execution_count": null,
            "metadata": {},
            "outputs": [],
            "source": [
                "# Let's check out the dimensions\n",
                "dim(df)\n"
            ]
        },
        {
            "cell_type": "markdown",
            "metadata": {},
            "source": [
                "## Data cleaning\n",
                "\n",
                "* Clean column names\n",
                "* Filter out unecessary categories\n",
                "* Clean gender identity category values - too wordy\n",
                "* Ensure gender_identity column is a factor with levels in desired order\n"
            ]
        },
        {
            "cell_type": "code",
            "execution_count": null,
            "metadata": {},
            "outputs": [],
            "source": [
                "# str_replace_all() method finds all substrings which match the regex and replaces them with empty string\n",
                "# First, let's replace any brackets with empty strings\n",
                "colnames(df) <- str_replace_all(colnames(df), \"\\\\s*\\\\([^)]*\\\\)\", \"\")\n",
                "\n",
                "# Lowercase column text and replace empty spaces with \"_\"\n",
                "colnames(df) <- tolower(colnames(df))\n",
                "colnames(df) <- str_replace_all(colnames(df), \" \", \"_\")\n",
                "\n",
                "# Let's see if it worked..\n",
                "colnames(df)\n"
            ]
        },
        {
            "cell_type": "markdown",
            "metadata": {},
            "source": [
                "### Pipes and other operators..\n",
                "\n",
                "So, we've already come across the assignment operator '<-' which is used to assign a value. E.g. df <- read_csv('Data/GI_age.csv'), here we assign our csv file to a dataframe variable called 'df'.\n",
                "\n",
                "But, we're now going to encounter the pipe operator '%>%' which can seem intimidating at first but is actually pretty simple. It's used to pass the result of one function directly into the next function. E.g. df <- df %>% filter(gender_identity_code != -8), here we start with our df and pass it to the filter function using the pipe operator. This basically supplies the filter() function with its first argument, which is the dataframe to filter on. And here we encounter a logical operator '!=' within the filter() function, which specifies that we should only keep rows where gender_identity_code is not equal to -8. \n",
                "\n",
                "### Dollar sign operator - $\n",
                "\n",
                "This operator is used to access elements, such as columns of a dataframe, by name.\n",
                "Below, we use it to access the gender identity code column, where we want to view the unique values.\n"
            ]
        },
        {
            "cell_type": "code",
            "execution_count": null,
            "metadata": {},
            "outputs": [],
            "source": [
                "# Get rid of columns that do not apply\n",
                "df <- df %>% \n",
                "  filter(gender_identity_code != -8) \n",
                "\n",
                "# Use unique and access column to output its unique values\n",
                "\n",
                "unique(df$gender_identity_code)\n"
            ]
        },
        {
            "cell_type": "markdown",
            "metadata": {},
            "source": "\n"
        },
        {
            "cell_type": "code",
            "execution_count": null,
            "metadata": {},
            "outputs": [],
            "source": [
                "# Let's take a look at our unique values in our gender_identity category column\n",
                "\n",
                "unique(df$gender_identity)\n"
            ]
        },
        {
            "cell_type": "markdown",
            "metadata": {},
            "source": [
                "\n",
                "\n"
            ]
        },
        {
            "cell_type": "code",
            "execution_count": null,
            "metadata": {},
            "outputs": [],
            "source": [
                "# Use combo of mutate and recode to replace multiple values in column\n",
                "# .default ensures that any value not matching those specified are left unchanged\n",
                "\n",
                "df <- df %>%\n",
                "  mutate(gender_identity = recode(gender_identity,\n",
                "    \"Gender identity the same as sex registered at birth\" = \"Cisgender\",\n",
                "    \"Gender identity different from sex registered at birth but no specific identity given\" = \"Gender identity different from sex\",\n",
                "    .default = gender_identity))\n"
            ]
        },
        {
            "cell_type": "markdown",
            "metadata": {},
            "source": "\n"
        },
        {
            "cell_type": "code",
            "execution_count": null,
            "metadata": {},
            "outputs": [],
            "source": [
                "# Let's see if it worked...\n",
                "unique(df$gender_identity)\n"
            ]
        },
        {
            "cell_type": "markdown",
            "metadata": {},
            "source": "\n"
        },
        {
            "cell_type": "code",
            "execution_count": null,
            "metadata": {},
            "outputs": [],
            "source": [
                "# We use factor to convert gender_identity column to a factor with specified levels \n",
                "# This tells Plotly the exact order in which to display categories\n",
                "\n",
                "df$gender_identity <- factor(df$gender_identity, levels = c(\n",
                "  \"Cisgender\",\n",
                "  \"Gender identity different from sex\",\n",
                "  \"Trans woman\",\n",
                "  \"Trans man\",\n",
                "  \"All other gender identities\",\n",
                "  \"Not answered\"\n",
                "))\n"
            ]
        },
        {
            "cell_type": "markdown",
            "metadata": {},
            "source": [
                "## Data pre-processing\n",
                "\n",
                "Before we can plot our data, we need to calculate the percentage of each gender identity category. \n",
                "\n",
                "The mutate() function adds a new column 'percentage' to df, and applies the following calculation to each row.\n"
            ]
        },
        {
            "cell_type": "code",
            "execution_count": null,
            "metadata": {},
            "outputs": [],
            "source": [
                "# mutate() is used to add new variables to a df or modify existing ones\n",
                "df <- df %>% mutate(percentage = round(observation / sum(observation) * 100, 2))\n"
            ]
        },
        {
            "cell_type": "markdown",
            "metadata": {},
            "source": "\n"
        },
        {
            "cell_type": "code",
            "execution_count": null,
            "metadata": {},
            "outputs": [],
            "source": [
                "# Let's take a look..\n",
                "head(df$percentage)\n"
            ]
        },
        {
            "cell_type": "markdown",
            "metadata": {},
            "source": [
                "## Basic interactive bar chart\n",
                "\n",
                "Now we can create our first simple interactive visualisation. To do so we use Plotly's plot_ly function, and supply the parameters with the necessary arguments. You'll notice that we use the tilde operator (~) quite a bit when building our graph. By preceding relevant variables with ~ it tells R to look for that variable within the dataframe.\n"
            ]
        },
        {
            "cell_type": "code",
            "execution_count": null,
            "metadata": {},
            "outputs": [],
            "source": [
                "# Create the bar chart visualization with percentages on the y-axis\n",
                "fig <- plot_ly(data = df, x = ~gender_identity, y = ~percentage, type = 'bar',\n",
                "               # defines how the bars should be styled\n",
                "               marker = list(color = 'rgb(158,202,225)', line = list(color = 'rgb(8,48,107)', width = 1.5)),\n",
                "               width = 800, height = 600)\n"
            ]
        },
        {
            "cell_type": "markdown",
            "metadata": {},
            "source": [
                "\n",
                "\n"
            ]
        },
        {
            "cell_type": "code",
            "execution_count": null,
            "metadata": {},
            "outputs": [],
            "source": [
                "# Let's check it out\n",
                "fig\n"
            ]
        },
        {
            "cell_type": "markdown",
            "metadata": {},
            "source": [
                "## Using layout() method\n",
                "\n",
                "Once a graph has been created, we can use the layout method to customise the appearance and layout. This allows you to modify things such as titles, legend details, axis properties, etc, without needing to recreate the figure from scratch.\n"
            ]
        },
        {
            "cell_type": "code",
            "execution_count": null,
            "metadata": {},
            "outputs": [],
            "source": [
                "# Let's apply a log scale to our y-axis so this graph is easier to interpet \n",
                "\n",
                "fig <- layout(fig,\n",
                "              title = 'Percentage of Each Gender Identity in England and Wales',\n",
                "              # set showline to true, otherwise it disappears when we apply log scale\n",
                "              xaxis = list(title = 'Gender Identity', showline = TRUE),\n",
                "              yaxis = list(type = 'log', title = 'Percentage (Log Scale)'))\n"
            ]
        },
        {
            "cell_type": "markdown",
            "metadata": {},
            "source": "\n"
        },
        {
            "cell_type": "code",
            "execution_count": null,
            "metadata": {},
            "outputs": [],
            "source": [
                "fig\n",
                "\n"
            ]
        },
        {
            "cell_type": "markdown",
            "metadata": {},
            "source": [
                "## Tooltips\n",
                "\n",
                "When using different R libraries that are geared towards interactive visualisations, you'll often come across 'tooltips'. These are small boxes that provide information when a user hovers over a part of a data visualisation such as: a point on a graph, a bar in a bar chart, or a segment in a pie chart. They are used to display additional information about the data point or object, providing more context without cluttering up the chart. In Plotly tooltips are referred to as 'hover_data'.\n",
                "\n",
                "All interactive plotly graphs come with default hover data, so when you scroll over a bar or a scatterplot data point it will display the specific x-axis value and y-axis value. But, variety is the spice of life and there's going to be times when you want to leverage this feature to include interesting info that isn't included by default. For instance, for our bar chart, I'd like to add in data from the 'Observation' column, which shows the raw count for each gender identity category.\n",
                "\n",
                "To do this it's quite easy. We use the text and hoverinfo parameter in the plot_ly function, with text defining the variables we'd like to include and how they should appear, and hoverinfo ensuring that this text is displayed in the tooltips. So, let's create the graph again, but this time let's specify our tooltips.\n"
            ]
        },
        {
            "cell_type": "code",
            "execution_count": null,
            "metadata": {},
            "outputs": [],
            "source": [
                "new_fig <- plot_ly(data = df, x = ~gender_identity, y = ~percentage, type = 'bar',\n",
                "                   # ~paste  combines multiple pieces of text and data into one string\n",
                "               hovertext = ~paste(\"Gender: \", gender_identity, \n",
                "                                  #<br> is HTML code for a line break\n",
                "                                  # sprintf - used to format strings\n",
                "                             \"<br>Percentage: \", sprintf(\"%.2f%%\", percentage), \n",
                "                             \"<br>Observations: \", observation),\n",
                "               # tells plotly to only display the text provided in hovertext\n",
                "               hoverinfo = 'text',\n",
                "               marker = list(color = 'rgb(158,202,225)', line = list(color = 'rgb(8,48,107)', width = 1.5)),\n",
                "               width = 800, height = 600)\n",
                "\n",
                "\n",
                "\n",
                "# Apply a log scale to the y-axis\n",
                "new_fig <- layout(new_fig,\n",
                "              title = 'Percentage of Each Gender Identity in England and Wales',\n",
                "              xaxis = list(title = 'Gender Identity', showline = TRUE),\n",
                "              yaxis = list(type = 'log', title = 'Percentage (Log Scale)'))\n"
            ]
        },
        {
            "cell_type": "markdown",
            "metadata": {},
            "source": "\n"
        },
        {
            "cell_type": "code",
            "execution_count": null,
            "metadata": {},
            "outputs": [],
            "source": [
                "new_fig\n",
                "\n"
            ]
        },
        {
            "cell_type": "markdown",
            "metadata": {},
            "source": [
                "# Dataset 2\n",
                "\n",
                "This dataset classifies residents by gender identity and age, with the unit of analysis being England and Wales. \n"
            ]
        },
        {
            "cell_type": "code",
            "execution_count": null,
            "metadata": {},
            "outputs": [],
            "source": [
                "# Load in dataset \n",
                "\n",
                "df2 <- read_csv('../Data/GI_age.csv')\n"
            ]
        },
        {
            "cell_type": "markdown",
            "metadata": {},
            "source": [
                "\n",
                "\n"
            ]
        },
        {
            "cell_type": "code",
            "execution_count": null,
            "metadata": {},
            "outputs": [],
            "source": [
                "# Brief glimpse of data structure\n",
                "head(df2, 10)\n"
            ]
        },
        {
            "cell_type": "markdown",
            "metadata": {},
            "source": "\n"
        },
        {
            "cell_type": "code",
            "execution_count": null,
            "metadata": {},
            "outputs": [],
            "source": [
                "# Let's check out the dimensions\n",
                "\n",
                "dim(df2)\n"
            ]
        },
        {
            "cell_type": "markdown",
            "metadata": {},
            "source": [
                "## Data Cleaning\n",
                "\n",
                "* Clean column names\n",
                "* Filter out unecessary categories\n",
                "* Clean gender identity category values - too wordy\n",
                "* Ensure gender_identity column is a factor with levels in desired order\n",
                "* Clean age category values - too wordy\n",
                "\n",
                "We'll whiz through this, because it's the same stuff we did for the last dataset. \n"
            ]
        },
        {
            "cell_type": "code",
            "execution_count": null,
            "metadata": {},
            "outputs": [],
            "source": [
                "# str_replace_all() method finds all substrings which match the regex and replaces them with empty string\n",
                "# First, let's replace any brackets with empty strings\n",
                "colnames(df2) <- str_replace_all(colnames(df2), \"\\\\s*\\\\([^)]*\\\\)\", \"\")\n",
                "\n",
                "# Lowercase column text and replace empty spaces with \"_\"\n",
                "colnames(df2) <- tolower(colnames(df2))\n",
                "colnames(df2) <- str_replace_all(colnames(df2), \" \", \"_\")\n",
                "\n",
                "# Let's see if it worked..\n",
                "colnames(df2)\n"
            ]
        },
        {
            "cell_type": "markdown",
            "metadata": {},
            "source": "\n"
        },
        {
            "cell_type": "code",
            "execution_count": null,
            "metadata": {},
            "outputs": [],
            "source": [
                "# Get rid of columns that do not apply\n",
                "df2 <- df2 %>% \n",
                "  filter(gender_identity_code != -8) \n",
                "\n",
                "# Use unique and access column to output its unique values\n",
                "\n",
                "unique(df2$gender_identity_code)\n"
            ]
        },
        {
            "cell_type": "markdown",
            "metadata": {},
            "source": "\n"
        },
        {
            "cell_type": "code",
            "execution_count": null,
            "metadata": {},
            "outputs": [],
            "source": [
                "# Get rid of redundant age category\n",
                "# Further filter data\n",
                "df2 <- df2 %>%\n",
                "  filter(age_code != 1)\n"
            ]
        },
        {
            "cell_type": "markdown",
            "metadata": {},
            "source": "\n"
        },
        {
            "cell_type": "code",
            "execution_count": null,
            "metadata": {},
            "outputs": [],
            "source": [
                "# Clean up the values in the 'age' column. Let's shorten them.\n",
                "\n",
                "# Chain str_replace() calls together to apply multiple string replacements in succession\n",
                "# Each str_replace() call is applied to the result of the previous one\n",
                "df2$age <- df2$age %>%\n",
                "  str_replace('Aged ', '') %>%\n",
                "  str_replace('to', '-') %>%\n",
                "  str_replace('years', '') %>%\n",
                "  str_replace('and over', '+') %>%\n",
                "  str_replace(' - ', '-')\n",
                "\n",
                "# We can pass our df to the select function, where we specify the column we're interested in.\n",
                "# Then, we pipe the output to the head function.\n",
                "df2 %>%\n",
                "  select(age) %>%\n",
                "  head()\n"
            ]
        },
        {
            "cell_type": "markdown",
            "metadata": {},
            "source": "\n"
        },
        {
            "cell_type": "code",
            "execution_count": null,
            "metadata": {},
            "outputs": [],
            "source": [
                "# Use combo of mutate and recode to replace multiple values in column\n",
                "# .default ensures that any value not matching those specified are left unchanged\n",
                "\n",
                "df2 <- df2 %>%\n",
                "  mutate(gender_identity = recode(gender_identity,\n",
                "    \"Gender identity the same as sex registered at birth\" = \"Cisgender\",\n",
                "    \"Gender identity different from sex registered at birth but no specific identity given\" = \"Gender identity different from sex\",\n",
                "    .default = gender_identity))\n"
            ]
        },
        {
            "cell_type": "markdown",
            "metadata": {},
            "source": [
                "\n",
                "\n"
            ]
        },
        {
            "cell_type": "code",
            "execution_count": null,
            "metadata": {},
            "outputs": [],
            "source": [
                "unique(df2$gender_identity)\n",
                "\n"
            ]
        },
        {
            "cell_type": "markdown",
            "metadata": {},
            "source": "\n"
        },
        {
            "cell_type": "code",
            "execution_count": null,
            "metadata": {},
            "outputs": [],
            "source": [
                "# We use factor to convert gender_identity column to a factor with specified levels \n",
                "# This tells Plotly the exact order in which to display categories\n",
                "\n",
                "df2$gender_identity <- factor(df2$gender_identity, levels = c(\n",
                "  \"Cisgender\",\n",
                "  \"Gender identity different from sex\",\n",
                "  \"Trans woman\",\n",
                "  \"Trans man\",\n",
                "  \"All other gender identities\",\n",
                "  \"Not answered\"\n",
                "))\n"
            ]
        },
        {
            "cell_type": "markdown",
            "metadata": {},
            "source": [
                "## Question\n",
                "\n",
                "How is gender identity distributed among different age groups?\n",
                "\n",
                "Some subquestions that this can help us answer:\n",
                "\n",
                "* What % of trans women are aged 16-24 years?\n",
                "* Are older age groups over represented in the 'non-response' category?\n",
                "\n",
                "## Data pre-processing\n",
                "\n",
                "### Calculate percentages \n",
                "\n",
                "Below, we use the group_by function to group the data by 'gender_identity' and calculate the percentage within each group. Then the mutate() function adds a new column 'percentage' to df, which (for each group) divides the observation by the sum of observations, multiplies it by 100, and rounds it up to 2 decimal points. We then use the ungroup function when we're done with the grouping operation. \n"
            ]
        },
        {
            "cell_type": "code",
            "execution_count": null,
            "metadata": {},
            "outputs": [],
            "source": [
                "df2 <- df2 %>%\n",
                "  group_by(gender_identity) %>%\n",
                "  mutate(percentage = round((observation / sum(observation) * 100), 2)) %>%\n",
                "  ungroup()\n",
                "\n",
                "head(df2)\n"
            ]
        },
        {
            "cell_type": "markdown",
            "metadata": {},
            "source": [
                "## Interactive grouped bar chart\n",
                "\n",
                "When creating grouped bar charts, there's a few subtle differences that you'll need to account for in the code.\n",
                "First, we'll need to make sure this is a grouped bar chart, which we can set with the 'barmode' parameter.\n",
                "Second, we'll need a way to colour each bar in each group, according to age categories, which we can do with the 'color' and 'colors' parameters.\n"
            ]
        },
        {
            "cell_type": "code",
            "execution_count": null,
            "metadata": {},
            "outputs": [],
            "source": [
                "# Create a grouped bar chart with hover information\n",
                "fig2 <- plot_ly(data = df2, x = ~gender_identity, y = ~percentage, type = 'bar',\n",
                "               # color specifies which variable to colour by\n",
                "               # colors specifies the colour palette to use, and how many colours are required\n",
                "               color = ~age, colors = RColorBrewer::brewer.pal(length(unique(df2$age)), \"Set2\"),\n",
                "               hoverinfo = 'text',\n",
                "               hovertext = ~paste(\"Observation: \", observation,\n",
                "                                  \"<br>Percentage: \", sprintf(\"%.2f%%\", percentage),\n",
                "                                  \"<br>Age group: \", age),\n",
                "               marker = list(line = list(color = 'rgba(255,255,255, 0.5)', width = 0.5)),\n",
                "               width = 800, height = 600)\n",
                "               \n"
            ]
        },
        {
            "cell_type": "markdown",
            "metadata": {},
            "source": "\n"
        },
        {
            "cell_type": "code",
            "execution_count": null,
            "metadata": {},
            "outputs": [],
            "source": [
                "fig2\n",
                "\n"
            ]
        },
        {
            "cell_type": "markdown",
            "metadata": {},
            "source": "\n"
        },
        {
            "cell_type": "code",
            "execution_count": null,
            "metadata": {},
            "outputs": [],
            "source": [
                "fig2 <- layout(fig2,title = 'Distribution of Gender Identity Categories Among Age Groups',\n",
                "         xaxis = list(title = 'Gender Identity'),\n",
                "         yaxis = list(title = 'Percentage'),\n",
                "         legend = list(title = list(text = 'Age Group')))\n"
            ]
        },
        {
            "cell_type": "markdown",
            "metadata": {},
            "source": "\n"
        },
        {
            "cell_type": "code",
            "execution_count": null,
            "metadata": {},
            "outputs": [],
            "source": [
                "fig2\n",
                "\n"
            ]
        },
        {
            "cell_type": "markdown",
            "metadata": {},
            "source": [
                "## Stacked bar chart\n",
                "\n",
                "The method I show below simply converts the previously made grouped bar chart 'fig2' to a stacked bar chart. Stacked bar charts can only be created using the layout() function to change the barmode, as the default is a grouped bar chart. \n"
            ]
        },
        {
            "cell_type": "code",
            "execution_count": null,
            "metadata": {},
            "outputs": [],
            "source": [
                "# Convert to stacked bar chart\n",
                "\n",
                "st_fig <- layout(fig2,\n",
                "         barmode = 'stack')\n",
                "\n",
                "st_fig\n"
            ]
        },
        {
            "cell_type": "markdown",
            "metadata": {},
            "source": [
                "## Dataset 3\n",
                "\n",
                "This dataset classifies residents by gender identity and ethnic group, with the unit of analysis being the 331 local authorities across England and Wales. \n"
            ]
        },
        {
            "cell_type": "code",
            "execution_count": null,
            "metadata": {},
            "outputs": [],
            "source": [
                "# Load in dataset\n",
                "\n",
                "df3 <- read_csv('../Data/GI_ethnic.csv')\n"
            ]
        },
        {
            "cell_type": "markdown",
            "metadata": {},
            "source": [
                "\n",
                "\n"
            ]
        },
        {
            "cell_type": "code",
            "execution_count": null,
            "metadata": {},
            "outputs": [],
            "source": [
                "# Brief glimpse at underlying data structure\n",
                "head(df3, 10)\n"
            ]
        },
        {
            "cell_type": "markdown",
            "metadata": {},
            "source": [
                "## Data Cleaning\n",
                "\n",
                "* Clean column names\n",
                "* Filter out unnecessary categories\n",
                "\n",
                "Below, I provide another method 'gsub()' which can be used instead of the str_replace_all() method which has been demonstrated in the previous cleaning sections. Basically, looks for a pattern and applies the replacement to any column names which match the pattern. \n"
            ]
        },
        {
            "cell_type": "code",
            "execution_count": null,
            "metadata": {},
            "outputs": [],
            "source": [
                "# Remove all text within parentheses from column names and replace it with an empty string\n",
                "\n",
                "# tilde operator (~) used to apply function 'gsub' to each colname\n",
                "# .x represents each colname that gsub will be applied to\n",
                "df3 <- df3 %>% \n",
                "  rename_with(~ gsub(\"\\\\s*\\\\([^)]*\\\\)\", \"\", .x))\n"
            ]
        },
        {
            "cell_type": "markdown",
            "metadata": {},
            "source": "\n"
        },
        {
            "cell_type": "code",
            "execution_count": null,
            "metadata": {},
            "outputs": [],
            "source": [
                "# Lowercase all text in column names and replace spaces with underscores\n",
                "df3 <- df3 %>% \n",
                "  rename_with(~ tolower(gsub(\" \", \"_\", .x)))\n"
            ]
        },
        {
            "cell_type": "markdown",
            "metadata": {},
            "source": "\n"
        },
        {
            "cell_type": "code",
            "execution_count": null,
            "metadata": {},
            "outputs": [],
            "source": [
                "# Shorten the local authority column names as they are way too long\n",
                "df3 <- df3 %>% \n",
                "  rename(LA_code = lower_tier_local_authorities_code,\n",
                "         LA_name = lower_tier_local_authorities)\n"
            ]
        },
        {
            "cell_type": "markdown",
            "metadata": {},
            "source": "\n"
        },
        {
            "cell_type": "code",
            "execution_count": null,
            "metadata": {},
            "outputs": [],
            "source": [
                "# Let's see if it worked\n",
                "colnames(df3)\n"
            ]
        },
        {
            "cell_type": "markdown",
            "metadata": {},
            "source": [
                "\n",
                "\n"
            ]
        },
        {
            "cell_type": "code",
            "execution_count": null,
            "metadata": {},
            "outputs": [],
            "source": [
                "# Remove 'Does not apply' categories for the gender identity and ethnic group columns\n",
                "df3 <- df3 %>% \n",
                "  filter(gender_identity_code != -8, ethnic_group_code != -8)\n"
            ]
        },
        {
            "cell_type": "markdown",
            "metadata": {},
            "source": "\n"
        },
        {
            "cell_type": "code",
            "execution_count": null,
            "metadata": {},
            "outputs": [],
            "source": [
                "# Let's see if it worked.. \n",
                "unique(df3$gender_identity_code)\n"
            ]
        },
        {
            "cell_type": "markdown",
            "metadata": {},
            "source": "\n"
        },
        {
            "cell_type": "code",
            "execution_count": null,
            "metadata": {},
            "outputs": [],
            "source": [
                "# Let's see if it worked..\n",
                "unique(df3$ethnic_group_code)\n"
            ]
        },
        {
            "cell_type": "markdown",
            "metadata": {},
            "source": [
                "## Question\n",
                "\n",
                "How does the rate of 'non-response' on gender identity vary among different ethnic groups across local authorities in England and Wales?\n",
                "\n",
                "A subquestion this could help us answer:\n",
                "\n",
                "Does the relationship between non-response and ethnic group % for local authorities differ between the 'White' categories and other ethnic groups?\n",
                "\n",
                "## Data pre-processing\n",
                "\n",
                "Given that I want to explore the question above, I'd like to create a scatterplot which explores the relationship between the % of certain ethnic groups within local authorities and their non-response rates. Therefore, I'll need to prep my x and y variables, so I'll need to calculate the percentage of each ethnic group in each LA, and that ethnic groups non-response rate within each LA.  \n",
                "\n",
                "### Calculate % of each ethnic group in each LA\n"
            ]
        },
        {
            "cell_type": "code",
            "execution_count": null,
            "metadata": {},
            "outputs": [],
            "source": [
                "# First, we're going to group our data by LA_name, ethnic group, and sum our observations\n",
                "# This leaves us with the total of each ethnic group in each local authority\n",
                "ethnic_totals <- df3 %>%\n",
                "  group_by(LA_name, ethnic_group) %>%\n",
                "  summarise(Ethnic_sum = sum(observation, na.rm = TRUE)) %>%\n",
                "  ungroup()\n",
                "\n",
                "# Print the first few rows to check\n",
                "head(ethnic_totals)\n"
            ]
        },
        {
            "cell_type": "markdown",
            "metadata": {},
            "source": [
                "\n",
                "\n"
            ]
        },
        {
            "cell_type": "code",
            "execution_count": null,
            "metadata": {},
            "outputs": [],
            "source": [
                "# Calculate total observations for each local authority by grouping df3 by local authority and summing up obs\n",
                "la_totals <- df3 %>%\n",
                "  group_by(LA_name) %>%\n",
                "  summarise(LA_sum = sum(observation, na.rm = TRUE)) %>%\n",
                "  ungroup()\n",
                "\n",
                "# Print the first few rows to check\n",
                "head(la_totals)\n"
            ]
        },
        {
            "cell_type": "markdown",
            "metadata": {},
            "source": "\n"
        },
        {
            "cell_type": "code",
            "execution_count": null,
            "metadata": {},
            "outputs": [],
            "source": [
                "# Merge the ethnic_totals and la_totals dataframes together\n",
                "# by parameter specifies which column to perform merge on\n",
                "\n",
                "grp_pct <- merge(ethnic_totals, la_totals, by = \"LA_name\")\n"
            ]
        },
        {
            "cell_type": "markdown",
            "metadata": {},
            "source": "\n"
        },
        {
            "cell_type": "code",
            "execution_count": null,
            "metadata": {},
            "outputs": [],
            "source": [
                "# Calculate the percentage of each ethnic group within each local authority\n",
                "# Store results in new column \n",
                "\n",
                "grp_pct <- grp_pct %>%\n",
                "  mutate(Percentage = round((Ethnic_sum / LA_sum * 100), 2))\n"
            ]
        },
        {
            "cell_type": "markdown",
            "metadata": {},
            "source": [
                "\n",
                "\n"
            ]
        },
        {
            "cell_type": "code",
            "execution_count": null,
            "metadata": {},
            "outputs": [],
            "source": [
                "# Print the first few rows to check\n",
                "head(grp_pct, 10)\n"
            ]
        },
        {
            "cell_type": "markdown",
            "metadata": {},
            "source": [
                "### Calculate Ethnic Group Non-Response Rates (%'s) Within LAs\n",
                "\n"
            ]
        },
        {
            "cell_type": "code",
            "execution_count": null,
            "metadata": {},
            "outputs": [],
            "source": [
                "# We already have our ethnic group totals which we can re-use...\n",
                "\n",
                "ethnic_totals\n"
            ]
        },
        {
            "cell_type": "markdown",
            "metadata": {},
            "source": "\n"
        },
        {
            "cell_type": "code",
            "execution_count": null,
            "metadata": {},
            "outputs": [],
            "source": [
                "# Calculate sum of non-responses for each ethnic group within each LA\n",
                "# Filter df3 so that we only have non-response rows\n",
                "# Group by LA and ethnic group then sum non-response obs and store the results in new column\n",
                "\n",
                "non_response_totals <- df3 %>%\n",
                "  filter(gender_identity == 'Not answered') %>%\n",
                "  group_by(LA_name, ethnic_group) %>%\n",
                "  summarise(NR_total = sum(observation, na.rm = TRUE)) %>%\n",
                "  ungroup()\n"
            ]
        },
        {
            "cell_type": "markdown",
            "metadata": {},
            "source": "\n"
        },
        {
            "cell_type": "code",
            "execution_count": null,
            "metadata": {},
            "outputs": [],
            "source": [
                "# Let's check it out.. \n",
                "head(non_response_totals)\n"
            ]
        },
        {
            "cell_type": "markdown",
            "metadata": {},
            "source": [
                "\n",
                "\n"
            ]
        },
        {
            "cell_type": "code",
            "execution_count": null,
            "metadata": {},
            "outputs": [],
            "source": [
                "# Merge the tethnic group totals with the ethnic group non-response totals\n",
                "# c - used when we're referencing more than one column\n",
                "# all.x - performs a left join\n",
                "grp_nr <- merge(ethnic_totals, non_response_totals, by = c(\"LA_name\", \"ethnic_group\"), all.x = TRUE)\n"
            ]
        },
        {
            "cell_type": "markdown",
            "metadata": {},
            "source": "\n"
        },
        {
            "cell_type": "code",
            "execution_count": null,
            "metadata": {},
            "outputs": [],
            "source": [
                "# Let's check it out.. \n",
                "\n",
                "head(grp_nr)\n"
            ]
        },
        {
            "cell_type": "markdown",
            "metadata": {},
            "source": [
                "\n",
                "\n"
            ]
        },
        {
            "cell_type": "code",
            "execution_count": null,
            "metadata": {},
            "outputs": [],
            "source": [
                "# Calculate the non-response percentage for each ethnic group within each LA\n",
                "# Store results in new column\n",
                "\n",
                "grp_nr <- grp_nr %>%\n",
                "  mutate(Eth_NR_Perc = round((NR_total / Ethnic_sum * 100), 2))\n"
            ]
        },
        {
            "cell_type": "markdown",
            "metadata": {},
            "source": [
                "\n",
                "\n"
            ]
        },
        {
            "cell_type": "code",
            "execution_count": null,
            "metadata": {},
            "outputs": [],
            "source": [
                "# Quick glance.. \n",
                "head(grp_nr)\n"
            ]
        },
        {
            "cell_type": "markdown",
            "metadata": {},
            "source": [
                "### Merge both datasets\n",
                "\n",
                "Now that we've completed the necessary calculations, we are left with two datasets:\n",
                "\n",
                "* grp_pct - details the % of each ethnic_group in each LA\n",
                "* grp_nr - details the ethnic group non-response % in each LA\n",
                "\n",
                "All we need to do now then, is merge these datasets together so that we can access the new columns and plot them:\n",
                "\n",
                "* Percentage\n",
                "* Eth_NR_Perc\n"
            ]
        },
        {
            "cell_type": "code",
            "execution_count": null,
            "metadata": {},
            "outputs": [],
            "source": [
                "# Merge the non-response data with the percentage of each ethnic group within each LA\n",
                "# Use select to isolate columns I want to preserve in the merge, LA_sum is redundant...\n",
                "\n",
                "nr <- merge(grp_nr, select(grp_pct, LA_name, ethnic_group, Percentage), by = c(\"LA_name\", \"ethnic_group\"))\n"
            ]
        },
        {
            "cell_type": "markdown",
            "metadata": {},
            "source": "\n"
        },
        {
            "cell_type": "code",
            "execution_count": null,
            "metadata": {},
            "outputs": [],
            "source": [
                "# Quick glance\n",
                "\n",
                "head(nr)\n"
            ]
        },
        {
            "cell_type": "markdown",
            "metadata": {},
            "source": [
                "## Interactive scatterplot\n",
                "\n",
                "In this section we're going to:\n",
                "\n",
                "1. Create a simple scatterplot exploring the relationship between the percentage of asian citizens within local authorities and their non-response rates\n",
                "\n",
                "2. Implement a dropdown widget to update our scatterplot \n"
            ]
        },
        {
            "cell_type": "code",
            "execution_count": null,
            "metadata": {},
            "outputs": [],
            "source": [
                "# Subset dataframe so we only have responses from the asian ethnic group\n",
                "\n",
                "asian <- nr %>%\n",
                "  filter(ethnic_group == 'Asian, Asian British or Asian Welsh')\n"
            ]
        },
        {
            "cell_type": "markdown",
            "metadata": {},
            "source": [
                "\n",
                "\n"
            ]
        },
        {
            "cell_type": "code",
            "execution_count": null,
            "metadata": {},
            "outputs": [],
            "source": [
                "# Check it out.. \n",
                "\n",
                "head(asian)\n"
            ]
        },
        {
            "cell_type": "markdown",
            "metadata": {},
            "source": "\n"
        },
        {
            "cell_type": "code",
            "execution_count": null,
            "metadata": {},
            "outputs": [],
            "source": [
                "# Initialize figure\n",
                "fig3 <- plot_ly(data = asian,\n",
                "               x = ~Percentage,\n",
                "               y = ~Eth_NR_Perc,\n",
                "               text = ~paste('LA Name:', LA_name,\n",
                "                             '<br>Non-response Total:', NR_total,\n",
                "                             '<br>Ethnic Group Total:', Ethnic_sum),\n",
                "               hoverinfo = \"text\",\n",
                "               mode = 'markers',  # Specify marker points\n",
                "               type = 'scatter',  # Graph type - scatterplot\n",
                "               name = 'Asian')  # Default visible graph\n",
                "\n",
                "\n",
                "# Customize layout \n",
                "fig3 <- fig3 %>%\n",
                "  layout(title = 'Non-Response Rates of the Asian Ethnic Group Across Local Authorities',\n",
                "         xaxis = list(title = 'Percentage of Ethnic Group'),\n",
                "         yaxis = list(title = 'Non-response Rate'),\n",
                "         width = 700,\n",
                "         height = 700)\n",
                "\n",
                "# Show the plot\n",
                "fig3\n"
            ]
        },
        {
            "cell_type": "markdown",
            "metadata": {},
            "source": [
                "## Dropdown selection\n",
                "\n",
                "What we're going to do now, is use Plotly's 'updatemenus' in conjunction with the 'update' method to create a dropdown where we can switch between the Asian ethnic group, and the White ethnic group to make some comparisons. \n",
                "\n",
                "### Step 1: Initialise figure and add traces\n",
                "\n",
                "We'll start by creating a plot_ly figure with no data or variables specified. This is because we're going to use add_trace to add our two sets of datapoints to the plot. 'Traces' refer to a set of data, so in our example we want to add a trace with the data points relating to our asian ethnic group, and another one for our white ethnic group. This will start to make sense when we look at the code below. \n"
            ]
        },
        {
            "cell_type": "code",
            "execution_count": null,
            "metadata": {},
            "outputs": [],
            "source": [
                "# Initialize a Plotly figure\n",
                "fig4 <- plot_ly()\n",
                "\n",
                "# Let's take a look..\n",
                "# This is our building block\n",
                "fig4\n"
            ]
        },
        {
            "cell_type": "markdown",
            "metadata": {},
            "source": [
                "\n",
                "\n"
            ]
        },
        {
            "cell_type": "code",
            "execution_count": null,
            "metadata": {},
            "outputs": [],
            "source": [
                "# Subset dataframe so we only have responses from the white ethnic group\n",
                "white <- nr %>%\n",
                "  filter(ethnic_group == 'White: English, Welsh, Scottish, Northern Irish or British')\n"
            ]
        },
        {
            "cell_type": "markdown",
            "metadata": {},
            "source": "\n"
        },
        {
            "cell_type": "code",
            "execution_count": null,
            "metadata": {},
            "outputs": [],
            "source": [
                "# Quick check...\n",
                "head(white)\n"
            ]
        },
        {
            "cell_type": "markdown",
            "metadata": {},
            "source": [
                "\n",
                "\n"
            ]
        },
        {
            "cell_type": "code",
            "execution_count": null,
            "metadata": {},
            "outputs": [],
            "source": [
                "# Add trace for the Asian ethnic group\n",
                "\n",
                "fig4 <- fig4 %>% add_trace(\n",
                "  data = asian,\n",
                "  x = ~Percentage,\n",
                "  y = ~Eth_NR_Perc,\n",
                "  text = ~paste('LA Name:', LA_name,\n",
                "                '<br>Non-response Total:', NR_total,\n",
                "                '<br>Ethnic Group Total:', Ethnic_sum),\n",
                "  type = 'scatter',\n",
                "  mode = 'markers',\n",
                "  name = 'Asian',\n",
                "  hoverinfo = 'text',\n",
                "  visible = T\n",
                ")\n",
                "\n",
                "# Add trace for the White ethnic group\n",
                "fig4 <- fig4 %>% add_trace(\n",
                "  data = white,\n",
                "  x = ~Percentage,\n",
                "  y = ~Eth_NR_Perc,\n",
                "  text = ~paste('LA Name:', LA_name,\n",
                "                '<br>Non-response Total:', NR_total,\n",
                "                '<br>Ethnic Group Total:', Ethnic_sum),\n",
                "  type = 'scatter',\n",
                "  mode = 'markers',\n",
                "  name = 'White',\n",
                "  hoverinfo = 'text',\n",
                "  visible = F\n",
                ")\n",
                "\n",
                "fig4\n"
            ]
        },
        {
            "cell_type": "markdown",
            "metadata": {},
            "source": [
                "### Step 2: Configure dropdown buttons and set initial visibility of datasets\n",
                "\n"
            ]
        },
        {
            "cell_type": "code",
            "execution_count": null,
            "metadata": {},
            "outputs": [],
            "source": [
                "# Define dropdown buttons for interactivity\n",
                "fig4 <- fig4 %>% layout(\n",
                "  title = \"Non-Response Rates Across Local Authorities\",\n",
                "  xaxis = list(title = \"Percentage of Ethnic Group\"),\n",
                "  yaxis = list(title = \"Non-response Rate\"),\n",
                "  # Hide the legend, as interactive dropdown will handle trace visibility\n",
                "  showlegend = FALSE,\n",
                "  # Add dropdown menu for interactive plot updates\n",
                "  updatemenus = list(\n",
                "    list(\n",
                "      type = \"dropdown\",\n",
                "      buttons = list(\n",
                "        list(\n",
                "          # the update method changes plot attributes when a button is clicked\n",
                "          method = \"update\",\n",
                "          # First button makes Asian data visible and hides the White data\n",
                "          args = list(list(\"visible\" = list(TRUE, FALSE)),\n",
                "                      # Update the title specific to the Asian data\n",
                "                      list(\"title\" = \"Non-Response Rates of the Asian Ethnic Group Across Local Authorities\")),\n",
                "          # Specify button label\n",
                "          label = \"Asian\"\n",
                "        ),\n",
                "        list(\n",
                "          method = \"update\",\n",
                "          args = list(list(\"visible\" = list(FALSE, TRUE)),\n",
                "                      list(\"title\" = \"Non-Response Rates of the White Ethnic Group Across Local Authorities\")),\n",
                "          label = \"White\"\n",
                "        )\n",
                "      )\n",
                "    )\n",
                "  )\n",
                ")\n",
                "\n",
                "# Display the figure\n",
                "fig4\n"
            ]
        },
        {
            "cell_type": "markdown",
            "metadata": {},
            "source": [
                "# Dataset 3\n",
                "\n",
                "This dataset includes sexual identity estimates by gender from 2010 to 2014. This is presented at a UK level, and broken down by England, Wales, Scotland and Northern Ireland. I wanted this guide to include a demo of how to make interactive line graphs with gender identity data, but unfortunately given this is only the first year that the ONS has collected this data that was not possible. So I found a dataset from 2015 which involves experimental statistics that have been used in the Integrated Household Survey. For more info, you can check out this [ONS link](https://www.ons.gov.uk/peoplepopulationandcommunity/culturalidentity/sexuality/datasets/sexualidentitybyagegroupbycountry). \n"
            ]
        },
        {
            "cell_type": "code",
            "execution_count": null,
            "metadata": {},
            "outputs": [],
            "source": [
                "# Load in dataset\n",
                "\n",
                "df3 <- read_csv('../Data/cleaned_sexuality_df.csv')\n"
            ]
        },
        {
            "cell_type": "markdown",
            "metadata": {},
            "source": "\n"
        },
        {
            "cell_type": "code",
            "execution_count": null,
            "metadata": {},
            "outputs": [],
            "source": [
                "# Brief glimpse at underlying data structure\n",
                "\n",
                "head(df3, 10)\n"
            ]
        },
        {
            "cell_type": "markdown",
            "metadata": {},
            "source": [
                "## Data cleaning\n",
                "\n",
                "When I first found this dataset it was very messy and formatted terribly, so I performed some cleaning on it in a separate jupyter notebook, to save cluttering this one and distracting from the main tutorial. If you'd like to see how I cleaned it up, please see the ['Data_cleaning_sexuality.ipynb'](Data_cleaning_sexuality.ipynb) notebook. \n",
                "\n",
                "## Data pre-processing\n",
                "\n",
                "The only pre-processing we're going to do is subset our data by country, and also create 2 separate datasets for Gender = Men and Gender = Women. I'll explain why this step is needed soon. \n"
            ]
        },
        {
            "cell_type": "code",
            "execution_count": null,
            "metadata": {},
            "outputs": [],
            "source": [
                "# Filter dataset to focus on England\n",
                "england_df <- df3 %>%\n",
                "  filter(Country == 'England')\n"
            ]
        },
        {
            "cell_type": "markdown",
            "metadata": {},
            "source": "\n"
        },
        {
            "cell_type": "code",
            "execution_count": null,
            "metadata": {},
            "outputs": [],
            "source": [
                "# Let's check it worked.. \n",
                "\n",
                "unique(england_df$Country)\n"
            ]
        },
        {
            "cell_type": "markdown",
            "metadata": {},
            "source": "\n"
        },
        {
            "cell_type": "code",
            "execution_count": null,
            "metadata": {},
            "outputs": [],
            "source": [
                "# Further filter data for each gender\n",
                "\n",
                "men <- england_df %>% filter(Gender == \"Men\")\n",
                "women <- england_df %>% filter(Gender == \"Women\")\n",
                "\n",
                "# Let's check it worked\n",
                "\n",
                "unique(men$Gender)\n",
                "unique(women$Gender)\n"
            ]
        },
        {
            "cell_type": "markdown",
            "metadata": {},
            "source": [
                "## Interactive linegraph\n",
                "\n",
                "Creating a simple line graph in plotly is pretty easy, but where plotly struggles (in R) is in handling facet plots. A facet plot is a type of visualisation that divides data into subplots based on categorical variables. What I'd like to do is create a facet plot of sexuality percentages in England (2010-2014) with individual subplots for our two genders. This is achieved easily in Python due to the plotly.express module, which provides a simple way to create facet plots. Unfortunately, we'll have to go through a bit more of a longwinded route, where we'll manually create our individual plots for each gender, then combine them using the subplot function. Also, plotly.express automatically manages legends to ensure they're unified across facets, but R's plotly requires that we manually sync up these legends. Womp womp. Let's get to it. \n"
            ]
        },
        {
            "cell_type": "code",
            "execution_count": null,
            "metadata": {},
            "outputs": [],
            "source": [
                "# Create individual plot for each gender\n",
                "\n",
                "# Create plots for each gender\n",
                "men_plot <- plot_ly(men, \n",
                "                    x = ~Year, \n",
                "                    y = ~Percentage, \n",
                "                    color = ~Sexuality, \n",
                "                    type = 'scatter', \n",
                "                    # mode used to make sure our data points are connected by lines across the years\n",
                "                    mode = 'lines+markers', \n",
                "                    hoverinfo = 'text',\n",
                "                    text = ~paste(\"Year:\", Year, \"<br>Percentage:\", Percentage, \"<br>Sexuality:\", Sexuality),\n",
                "                    # legendgroup parameter ensures that data points relating to the same category are synced across plots\n",
                "                    legendgroup = ~Sexuality,\n",
                "                    # showlegend parameter set to TRUE only for this plot to avoid duplicate legends\n",
                "                    showlegend = TRUE) %>%\n",
                "  layout(xaxis = list(title = 'Year', tickvals = 2010:2014, ticktext = 2010:2014),\n",
                "         yaxis = list(title = 'Percentage'),\n",
                "         # Here we add an annotation to the graph to label the first subplot \"Men\"\n",
                "         # Setting xref and yref to 'paper' simply means the annotation won't move if we zoom in or out\n",
                "         annotations = list(\n",
                "           list(x = 0.5, y = 1.05, text = \"Men\", showarrow = FALSE, xref='paper', yref='paper')))\n",
                "\n",
                "\n",
                "women_plot <- plot_ly(women, \n",
                "                      x = ~Year, \n",
                "                      y = ~Percentage, \n",
                "                      color = ~Sexuality, \n",
                "                      type = 'scatter', \n",
                "                      mode = 'lines+markers', \n",
                "                      hoverinfo = 'text',\n",
                "                      text = ~paste(\"Year:\", Year, \"<br>Percentage:\", Percentage, \"<br>Sexuality:\", Sexuality),\n",
                "                      legendgroup = ~Sexuality,\n",
                "                      showlegend = FALSE) %>%\n",
                "  layout(xaxis = list(title = 'Year', tickvals = 2010:2014, ticktext = 2010:2014),\n",
                "         yaxis = list(title = 'Percentage'),\n",
                "         annotations = list(\n",
                "           list(x = 0.5, y = 1.05, text = \"Women\", showarrow = FALSE, xref='paper', yref='paper')))\n",
                "\n",
                "# Let's take a look at one of these graphs\n",
                "\n",
                "women_plot\n"
            ]
        },
        {
            "cell_type": "markdown",
            "metadata": {},
            "source": "\n"
        },
        {
            "cell_type": "code",
            "execution_count": null,
            "metadata": {},
            "outputs": [],
            "source": [
                "# Combine individual plots using subplot\n",
                "# Within subplot, define number of rows, make sure share same x axes and both axes titles\n",
                "fig5 <- subplot(men_plot, women_plot, nrows = 2, shareX = TRUE, titleX = TRUE, titleY = TRUE) %>%\n",
                "  layout(\n",
                "    title = list(\n",
                "      text = 'Sexuality Percentages by Gender in England (2010-2014)', \n",
                "      y = 0.98,  # Move the title higher up\n",
                "      x = 0.5,   # Center the title\n",
                "      xanchor = \"center\",\n",
                "      yanchor = \"top\"\n",
                "    ),\n",
                "    margin = list(t = 100),  # Add space at the top for the title\n",
                "    height = 800,\n",
                "    width = 1000\n",
                "  )\n",
                "\n",
                "fig5\n"
            ]
        },
        {
            "cell_type": "markdown",
            "metadata": {},
            "source": [
                "# Sharing your interactive graphs online \n",
                "\n",
                "I'm going to provide you first with a really simple way to host Plotly graphs specifically, then we'll look into other more complex options that work with many visualisation packages.\n",
                "\n",
                "1. Use Plotly's ['Chart Studio'](https://chart-studio.plotly.com/). You can upload your visualisations directly from your coding environment and then get a link to share them online. You'll need to sign up for an account but it's free, unless you want to share the link privately then you'll need to upgrade your account. Otherwise, for data that's fine being out in the open, this is a good option.\n",
                "\n",
                "2. Embed your graphs in GitHub pages. Embed your graphs in GitHub pages. I'm not going to go into this fully, but if you're interested in doing something like this I recommend looking at GitHub's tutorial: https://pages.github.com/. This is what I used to create a GitHub pages for the UKDS which now acts as a lil website where we can show off cool projects like this one! Might be something to consider if you're a researcher looking to show off your work.\n"
            ]
        }
    ],
    "metadata": {
        "anaconda-cloud": "",
        "kernelspec": {
            "display_name": "R",
            "langauge": "R",
            "name": "ir"
        },
        "language_info": {
            "codemirror_mode": "r",
            "file_extension": ".r",
            "mimetype": "text/x-r-source",
            "name": "R",
            "pygments_lexer": "r",
            "version": "3.4.1"
        }
    },
    "nbformat": 4,
    "nbformat_minor": 1
}
