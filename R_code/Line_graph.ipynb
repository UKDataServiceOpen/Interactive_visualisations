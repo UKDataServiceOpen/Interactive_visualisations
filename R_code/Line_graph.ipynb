{
    "cells": [
        {
            "cell_type": "markdown",
            "metadata": {},
            "source": "\n"
        },
        {
            "cell_type": "code",
            "execution_count": null,
            "metadata": {},
            "outputs": [],
            "source": [
                "knitr::opts_chunk$set(echo = FALSE)\n",
                "\n"
            ]
        },
        {
            "cell_type": "markdown",
            "metadata": {},
            "source": "\n"
        },
        {
            "cell_type": "code",
            "execution_count": null,
            "metadata": {},
            "outputs": [],
            "source": [
                "# Allows us to read-in csv files\n",
                "library(readr) \n",
                "# For data manipulation\n",
                "library(dplyr) \n",
                "# For regular expression operations \n",
                "library(stringr) \n",
                "# Used tp create interactive visualisations\n",
                "library(plotly)\n"
            ]
        },
        {
            "cell_type": "markdown",
            "metadata": {},
            "source": [
                "# Dataset 3\n",
                "\n",
                "This dataset includes sexual identity estimates by gender from 2010 to 2014. This is presented at a UK level, and broken down by England, Wales, Scotland and Northern Ireland. I wanted this guide to include a demo of how to make interactive line graphs with gender identity data, but unfortunately given this is only the first year that the ONS has collected this data that was not possible. So I found a dataset from 2015 which involves experimental statistics that have been used in the Integrated Household Survey. For more info, you can check out this [ONS link](https://www.ons.gov.uk/peoplepopulationandcommunity/culturalidentity/sexuality/datasets/sexualidentitybyagegroupbycountry). \n"
            ]
        },
        {
            "cell_type": "code",
            "execution_count": null,
            "metadata": {},
            "outputs": [],
            "source": [
                "# Load in dataset\n",
                "\n",
                "df3 <- read_csv('../Data/cleaned_sexuality_df.csv')\n"
            ]
        },
        {
            "cell_type": "markdown",
            "metadata": {},
            "source": "\n"
        },
        {
            "cell_type": "code",
            "execution_count": null,
            "metadata": {},
            "outputs": [],
            "source": [
                "# Brief glimpse at underlying data structure\n",
                "\n",
                "head(df3, 10)\n"
            ]
        },
        {
            "cell_type": "markdown",
            "metadata": {},
            "source": [
                "## Data cleaning\n",
                "\n",
                "When I first found this dataset it was very messy and formatted terribly, so I performed some cleaning on it in a separate jupyter notebook, to save cluttering this one and distracting from the main tutorial. If you'd like to see how I cleaned it up, please see the ['Data_cleaning_sexuality.ipynb'](Data_cleaning_sexuality.ipynb) notebook. \n",
                "\n",
                "## Data pre-processing\n",
                "\n",
                "The only pre-processing we're going to do is subset our data by country, and also create 2 separate datasets for Gender = Men and Gender = Women. I'll explain why this step is needed soon. \n"
            ]
        },
        {
            "cell_type": "code",
            "execution_count": null,
            "metadata": {},
            "outputs": [],
            "source": [
                "# Filter dataset to focus on England\n",
                "england_df <- df3 %>%\n",
                "  filter(Country == 'England')\n"
            ]
        },
        {
            "cell_type": "markdown",
            "metadata": {},
            "source": "\n"
        },
        {
            "cell_type": "code",
            "execution_count": null,
            "metadata": {},
            "outputs": [],
            "source": [
                "# Let's check it worked.. \n",
                "\n",
                "unique(england_df$Country)\n"
            ]
        },
        {
            "cell_type": "markdown",
            "metadata": {},
            "source": "\n"
        },
        {
            "cell_type": "code",
            "execution_count": null,
            "metadata": {},
            "outputs": [],
            "source": [
                "# Further filter data for each gender\n",
                "\n",
                "men <- england_df %>% filter(Gender == \"Men\")\n",
                "women <- england_df %>% filter(Gender == \"Women\")\n",
                "\n",
                "# Let's check it worked\n",
                "\n",
                "unique(men$Gender)\n",
                "unique(women$Gender)\n"
            ]
        },
        {
            "cell_type": "markdown",
            "metadata": {},
            "source": [
                "## Interactive linegraph\n",
                "\n",
                "Creating a simple line graph in plotly is pretty easy, but where plotly struggles (in R) is in handling facet plots. A facet plot is a type of visualisation that divides data into subplots based on categorical variables. What I'd like to do is create a facet plot of sexuality percentages in England (2010-2014) with individual subplots for our two genders. This is achieved easily in Python due to the plotly.express module, which provides a simple way to create facet plots. Unfortunately, we'll have to go through a bit more of a longwinded route, where we'll manually create our individual plots for each gender, then combine them using the subplot function. Also, plotly.express automatically manages legends to ensure they're unified across facets, but R's plotly requires that we manually sync up these legends. Womp womp. Let's get to it. \n"
            ]
        },
        {
            "cell_type": "code",
            "execution_count": null,
            "metadata": {},
            "outputs": [],
            "source": [
                "# Create individual plot for each gender\n",
                "\n",
                "# Create plots for each gender\n",
                "men_plot <- plot_ly(men, \n",
                "                    x = ~Year, \n",
                "                    y = ~Percentage, \n",
                "                    color = ~Sexuality, \n",
                "                    type = 'scatter', \n",
                "                    # mode used to make sure our data points are connected by lines across the years\n",
                "                    mode = 'lines+markers', \n",
                "                    hoverinfo = 'text',\n",
                "                    text = ~paste(\"Year:\", Year, \"<br>Percentage:\", Percentage, \"<br>Sexuality:\", Sexuality),\n",
                "                    # legendgroup parameter ensures that data points relating to the same category are synced across plots\n",
                "                    legendgroup = ~Sexuality,\n",
                "                    # showlegend parameter set to TRUE only for this plot to avoid duplicate legends\n",
                "                    showlegend = TRUE) %>%\n",
                "  layout(xaxis = list(title = 'Year', tickvals = 2010:2014, ticktext = 2010:2014),\n",
                "         yaxis = list(title = 'Percentage'),\n",
                "         # Here we add an annotation to the graph to label the first subplot \"Men\"\n",
                "         # Setting xref and yref to 'paper' simply means the annotation won't move if we zoom in or out\n",
                "         annotations = list(\n",
                "           list(x = 0.5, y = 1.05, text = \"Men\", showarrow = FALSE, xref='paper', yref='paper')))\n",
                "\n",
                "\n",
                "women_plot <- plot_ly(women, \n",
                "                      x = ~Year, \n",
                "                      y = ~Percentage, \n",
                "                      color = ~Sexuality, \n",
                "                      type = 'scatter', \n",
                "                      mode = 'lines+markers', \n",
                "                      hoverinfo = 'text',\n",
                "                      text = ~paste(\"Year:\", Year, \"<br>Percentage:\", Percentage, \"<br>Sexuality:\", Sexuality),\n",
                "                      legendgroup = ~Sexuality,\n",
                "                      showlegend = FALSE) %>%\n",
                "  layout(xaxis = list(title = 'Year', tickvals = 2010:2014, ticktext = 2010:2014),\n",
                "         yaxis = list(title = 'Percentage'),\n",
                "         annotations = list(\n",
                "           list(x = 0.5, y = 1.05, text = \"Women\", showarrow = FALSE, xref='paper', yref='paper')))\n",
                "\n",
                "# Let's take a look at one of these graphs\n",
                "\n",
                "women_plot\n"
            ]
        },
        {
            "cell_type": "markdown",
            "metadata": {},
            "source": "\n"
        },
        {
            "cell_type": "code",
            "execution_count": null,
            "metadata": {},
            "outputs": [],
            "source": [
                "# Combine individual plots using subplot\n",
                "# Within subplot, define number of rows, make sure share same x axes and both axes titles\n",
                "fig5 <- subplot(men_plot, women_plot, nrows = 2, shareX = TRUE, titleX = TRUE, titleY = TRUE) %>%\n",
                "  layout(\n",
                "    title = list(\n",
                "      text = 'Sexuality Percentages by Gender in England (2010-2014)', \n",
                "      y = 0.98,  # Move the title higher up\n",
                "      x = 0.5,   # Center the title\n",
                "      xanchor = \"center\",\n",
                "      yanchor = \"top\"\n",
                "    ),\n",
                "    margin = list(t = 100),  # Add space at the top for the title\n",
                "    height = 800,\n",
                "    width = 1000\n",
                "  )\n",
                "\n",
                "fig5\n"
            ]
        }
    ],
    "metadata": {
        "anaconda-cloud": "",
        "kernelspec": {
            "display_name": "R",
            "langauge": "R",
            "name": "ir"
        },
        "language_info": {
            "codemirror_mode": "r",
            "file_extension": ".r",
            "mimetype": "text/x-r-source",
            "name": "R",
            "pygments_lexer": "r",
            "version": "3.4.1"
        }
    },
    "nbformat": 4,
    "nbformat_minor": 1
}
